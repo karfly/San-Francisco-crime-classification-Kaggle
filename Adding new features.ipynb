{
 "cells": [
  {
   "cell_type": "code",
   "execution_count": 281,
   "metadata": {
    "collapsed": true
   },
   "outputs": [],
   "source": [
    "import pandas as pd\n",
    "\n",
    "import numpy as np\n",
    "\n",
    "import matplotlib\n",
    "import matplotlib.pylab as plt\n",
    "%matplotlib inline\n",
    "\n",
    "import seaborn as sns"
   ]
  },
  {
   "cell_type": "code",
   "execution_count": 282,
   "metadata": {
    "collapsed": true
   },
   "outputs": [],
   "source": [
    "raw_train_data_file_path = './data/train.csv'\n",
    "raw_train_data = pd.read_csv(raw_train_data_file_path)"
   ]
  },
  {
   "cell_type": "code",
   "execution_count": 283,
   "metadata": {
    "collapsed": true
   },
   "outputs": [],
   "source": [
    "raw_test_data_file_path = './data/test.csv'\n",
    "raw_test_data = pd.read_csv(raw_test_data_file_path)"
   ]
  },
  {
   "cell_type": "markdown",
   "metadata": {},
   "source": [
    "## Creating new features"
   ]
  },
  {
   "cell_type": "code",
   "execution_count": 284,
   "metadata": {
    "collapsed": true
   },
   "outputs": [],
   "source": [
    "def create_date_features(data):\n",
    "    dates = pd.to_datetime(data['Dates'])\n",
    "    \n",
    "    years = dates.apply(lambda date: date.year)\n",
    "    months = dates.apply(lambda date: date.month)\n",
    "    month_days = dates.apply(lambda date: date.day)\n",
    "    \n",
    "    day_times = dates.apply(lambda date: (date.hour * 60 + date.minute) / float(60 * 24))\n",
    "    \n",
    "    return pd.DataFrame({'Year': years, 'Month': months, 'DayOfMonth': month_days, 'DayTime': day_times})"
   ]
  },
  {
   "cell_type": "markdown",
   "metadata": {},
   "source": [
    "## Adding new features"
   ]
  },
  {
   "cell_type": "code",
   "execution_count": 285,
   "metadata": {
    "collapsed": true
   },
   "outputs": [],
   "source": [
    "def add_new_features(data):\n",
    "    new_data = data.copy()\n",
    "    \n",
    "    # Date features\n",
    "    date_features = get_date_features(new_data)\n",
    "    new_data.drop('Dates', axis=1, inplace=True)\n",
    "    new_data = pd.concat([new_data, date_features], axis=1)\n",
    "    \n",
    "    return new_data"
   ]
  },
  {
   "cell_type": "markdown",
   "metadata": {},
   "source": [
    "## Writing new data to csv"
   ]
  },
  {
   "cell_type": "code",
   "execution_count": 286,
   "metadata": {
    "collapsed": true
   },
   "outputs": [],
   "source": [
    "import os.path\n",
    "def write_data_to_file(data, filepath, features=['']):    \n",
    "    file_name, extension = os.path.splitext(filepath)\n",
    "    file_path_with_features = file_name + '+' + '+'.join(features) + extension\n",
    "    \n",
    "    with open(file_path_with_features, 'w') as f:\n",
    "        data.to_csv(f, index=False)"
   ]
  },
  {
   "cell_type": "markdown",
   "metadata": {},
   "source": [
    "## Tranforming train and test data"
   ]
  },
  {
   "cell_type": "code",
   "execution_count": 287,
   "metadata": {
    "collapsed": false
   },
   "outputs": [],
   "source": [
    "new_train_data = add_new_features(raw_train_data)\n",
    "write_data_to_file(new_train_data, './data_with_new_features/train.csv', features=['date'])"
   ]
  },
  {
   "cell_type": "code",
   "execution_count": 288,
   "metadata": {
    "collapsed": false
   },
   "outputs": [],
   "source": [
    "new_test_data = add_new_features(raw_test_data)\n",
    "write_data_to_file(new_test_data, './data_with_new_features/test.csv', features=['date'])"
   ]
  }
 ],
 "metadata": {
  "kernelspec": {
   "display_name": "Python 2",
   "language": "python",
   "name": "python2"
  },
  "language_info": {
   "codemirror_mode": {
    "name": "ipython",
    "version": 2
   },
   "file_extension": ".py",
   "mimetype": "text/x-python",
   "name": "python",
   "nbconvert_exporter": "python",
   "pygments_lexer": "ipython2",
   "version": "2.7.11"
  }
 },
 "nbformat": 4,
 "nbformat_minor": 0
}
